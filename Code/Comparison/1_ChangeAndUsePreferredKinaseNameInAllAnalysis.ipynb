{
 "cells": [
  {
   "cell_type": "markdown",
   "metadata": {},
   "source": [
    "# Introduction\n",
    "This notebook is for setting new preferred names in the globalKinaseMap, or change the preferred names in the prediction data."
   ]
  },
  {
   "cell_type": "code",
   "execution_count": 1,
   "metadata": {},
   "outputs": [],
   "source": [
    "import pandas as pd"
   ]
  },
  {
   "cell_type": "code",
   "execution_count": 2,
   "metadata": {},
   "outputs": [],
   "source": [
    "# file location\n",
    "# local (../../), sammas (/Volumes/naegle_lab/Kinase Predictions/)\n",
    "base = '/Volumes/naegle_lab/Kinase Predictions/'\n",
    "\n",
    "# Prediction data type:\n",
    "#. 'all' = all human phosphosites\n",
    "#. '2exp' = with > 2 experimental evidence\n",
    "#. '3exp' = with > 3 experimental evidence\n",
    "d_type = '3exp'\n"
   ]
  },
  {
   "cell_type": "code",
   "execution_count": 18,
   "metadata": {},
   "outputs": [],
   "source": [
    "# the globalKinaseMap\n",
    "KinaseMap = base + 'Data/Map/globalKinaseMap.csv' \n",
    "\n",
    "# prediction data\n",
    "PhosphoPICK = base + 'Data/Final/PhosphoPICK/PhosphoPICK_2020-02-26_' + d_type + '_matrix.csv'\n",
    "NetworKIN = base + 'Data/Final/NetworKIN/NetworKIN_2020-02-26_' + d_type + '_matrix.csv' \n",
    "GPS = base + 'Data/Final/GPS5.0/GPS5_2020-02-26_' + d_type + '_matrix.csv'\n",
    "\n",
    "# output \n",
    "pp_out = base + 'Data/comparison/Thresh/PhosphoPICK/'+ d_type + '/PhosphoPICK.csv'\n",
    "nw_out = base + 'Data/comparison/Thresh/NetworKIN/'+ d_type + '/NetworKIN.csv'       \n",
    "gps_out = base + 'Data/comparison/Thresh/GPS5.0/'+ d_type + '/GPS.csv'\n"
   ]
  },
  {
   "cell_type": "code",
   "execution_count": 13,
   "metadata": {},
   "outputs": [],
   "source": [
    "def change_name(file, output, type):\n",
    "    \"\"\"\n",
    "    Set new preferred names in the globalKinaseMap, or change the preferred names in the prediction data\n",
    "    \n",
    "    Parameters\n",
    "    ----------\n",
    "    file: input file location\n",
    "    output: output file location\n",
    "    type:\n",
    "        'change' = change the preferred names in the prediction data for downstream analysis\n",
    "        'set' = set new preferred names\n",
    "    \"\"\"\n",
    "    df = pd.read_csv(file)\n",
    "    for key in name_change:\n",
    "        # set the Preferred Names in the globalKinaseMap, the default Preferred Name = Kinase Name\n",
    "        if type == 'set':\n",
    "            df.loc[df['Kinase Name'] == key, [\"Preferred Name\"]] = name_change[key]\n",
    "        # change the Kinase Name in the prediction data sets to Preferred Names\n",
    "        elif type == 'change':\n",
    "            df = df.rename(columns={key: name_change[key]})\n",
    "    \n",
    "    df.to_csv(output, chunksize = 1000000, index = False)"
   ]
  },
  {
   "cell_type": "markdown",
   "metadata": {},
   "source": [
    "### Set Preferred Names that are different from the common Kinase Name\n",
    "| Kinase Name | Preferred Name | \n",
    "|-------------|----------------|\n",
    "| EGFR        | ERBB1          | \n",
    "| TEK         | TIE2           | \n",
    "| FLT1        | VEGFR1         | \n",
    "| KDR         | VEGFR2         | \n",
    "| FLT4        | VEGFR3         | "
   ]
  },
  {
   "cell_type": "code",
   "execution_count": 5,
   "metadata": {},
   "outputs": [],
   "source": [
    "# create a dictionary for the name change \n",
    "name_change = {'EGFR' : 'ERBB1',\n",
    "               'TEK' : 'TIE2',\n",
    "               'FLT1': 'VEGFR1',\n",
    "               'KDR':'VEGFR2',\n",
    "               'FLT4':'VEGFR3'}"
   ]
  },
  {
   "cell_type": "code",
   "execution_count": 6,
   "metadata": {},
   "outputs": [],
   "source": [
    "# Set the preferred names \n",
    "change_name(KinaseMap, KinaseMap, 'set')"
   ]
  },
  {
   "cell_type": "code",
   "execution_count": 20,
   "metadata": {},
   "outputs": [],
   "source": [
    "# Change the preferred names for downstream analysis\n",
    "# PhosphoPICK\n",
    "change_name(PhosphoPICK, pp_out, 'change')\n",
    "\n",
    "# NetworKIN\n",
    "change_name(NetworKIN, nw_out, 'change')\n",
    "\n",
    "# GPS5.0\n",
    "change_name(GPS, gps_out, 'change')\n"
   ]
  },
  {
   "cell_type": "code",
   "execution_count": null,
   "metadata": {},
   "outputs": [],
   "source": []
  }
 ],
 "metadata": {
  "kernelspec": {
   "display_name": "Python 3",
   "language": "python",
   "name": "python3"
  },
  "language_info": {
   "codemirror_mode": {
    "name": "ipython",
    "version": 3
   },
   "file_extension": ".py",
   "mimetype": "text/x-python",
   "name": "python",
   "nbconvert_exporter": "python",
   "pygments_lexer": "ipython3",
   "version": "3.8.1"
  }
 },
 "nbformat": 4,
 "nbformat_minor": 4
}

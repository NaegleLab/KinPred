{
 "cells": [
  {
   "cell_type": "code",
   "execution_count": 3,
   "metadata": {},
   "outputs": [],
   "source": [
    "import pandas as pd"
   ]
  },
  {
   "cell_type": "code",
   "execution_count": 8,
   "metadata": {},
   "outputs": [],
   "source": [
    "# DEFINE FILE NAMES\n",
    "\n",
    "# file location\n",
    "# local (../../)\n",
    "base = '../../'\n",
    "\n",
    "# version date\n",
    "old_version = '2020-02-26'\n",
    "new_version = '1111-11-11'\n",
    "\n",
    "# PhosphoPICK files\n",
    "PP_file_org = base + 'Data/Formatted/PhosphoPICK/PhosphoPICK_formatted_' + old_version + '.csv'        # input/preprocessed file\n",
    "PP_final_old = base + 'Data/Final/PhosphoPICK/PhosphoPICK_' + old_version + '.csv'                 # cross referenced/filtered file\n",
    "PP_final_new = base + 'Data/Final/PhosphoPICK/PhosphoPICK_' + new_version + '.csv'                 # add new phosphosite prediction\n",
    "PP_binary_new = base + 'Data/Final/PhosphoPICK/PhosphoPICK_binary_' + new_version + '.csv'\n",
    "\n",
    "# GPS5.0 files\n",
    "GPS5_file_org = base + 'Data/Formatted/GPS/GPS5_formatted_' + old_version + '.csv'        # input/preprocessed file\n",
    "GPS5_final_old = base + 'Data/Final/GPS/GPS_' + old_version + '.csv'                     # cross referenced/filtered file\n",
    "GPS5_final_new = base + 'Data/Final/GPS/GPS_' + new_version + '.csv'                     # add new phosphosite prediction\n",
    "GPS5_binary_new = base + 'Data/Final/GPS/GPS_binary_' + new_version + '.csv'\n",
    "\n",
    "#NetworKIN\n",
    "NW_file_org = base + 'Data/Formatted/NetworKIN/NetworKIN_formatted_' + old_version + '.csv'        # input/preprocessed file\n",
    "NW_final_old = base + 'Data/Final/NetworKIN/NetworKIN_' + old_version + '.csv'                     # cross referenced/filtered file\n",
    "NW_final_new = base + 'Data/Final/NetworKIN/NetworKIN_' + new_version + '.csv'                     # add new phosphosite prediction\n",
    "NW_binary = base + 'Data/Final/NetworKIN/NetworKIN_binary_' + new_version + '.csv'\n"
   ]
  },
  {
   "cell_type": "code",
   "execution_count": null,
   "metadata": {},
   "outputs": [],
   "source": [
    "# predictor: \n",
    "# - PhosphoPICK = PP\n",
    "# - NetworKIN = NW\n",
    "# - GPS5.0 = GPS5\n",
    "def addPhosphosite (predictor, substrate_id):\n",
    "    if predictor == 'PhosphoPICK':\n",
    "        df_org = pd.read_csv(PP_file_org)\n",
    "        df_old = pd.read_csv(PP_final_old)\n",
    "        output = PP_final_new\n",
    "    elif predictor == 'NetworKIN':\n",
    "        df_org = pd.read_csv(NW_file_org)\n",
    "        df_old = pd.read_csv(NW_final_old)\n",
    "        output = NW_final_new\n",
    "    elif predictor == 'GPS5':\n",
    "        df_org = pd.read_csv(GPS_file_org)\n",
    "        df_old = pd.read_csv(GPS_final_old)\n",
    "        output = GPS_final_new\n",
    "    \n",
    "    df_add = df_org.loc[df_org.substrate_id == substrate_id]\n",
    "    df_new = df_old.append(df_add)\n",
    "    \n",
    "    df_new.to_csv(output, index = False)\n",
    "    "
   ]
  },
  {
   "cell_type": "code",
   "execution_count": 13,
   "metadata": {},
   "outputs": [
    {
     "name": "stdout",
     "output_type": "stream",
     "text": [
      "processing PhosphoPICK\n",
      "processing NetworKIN\n",
      "processing GPS5\n"
     ]
    }
   ],
   "source": [
    "predictors = ['PhosphoPICK', 'NetworKIN', 'GPS5']\n",
    "\n",
    "for predictor in predictors:\n",
    "    addPhosphosite (predictor, substrate_id)"
   ]
  },
  {
   "cell_type": "code",
   "execution_count": null,
   "metadata": {},
   "outputs": [],
   "source": []
  }
 ],
 "metadata": {
  "kernelspec": {
   "display_name": "Python 3",
   "language": "python",
   "name": "python3"
  },
  "language_info": {
   "codemirror_mode": {
    "name": "ipython",
    "version": 3
   },
   "file_extension": ".py",
   "mimetype": "text/x-python",
   "name": "python",
   "nbconvert_exporter": "python",
   "pygments_lexer": "ipython3",
   "version": "3.8.1"
  }
 },
 "nbformat": 4,
 "nbformat_minor": 2
}

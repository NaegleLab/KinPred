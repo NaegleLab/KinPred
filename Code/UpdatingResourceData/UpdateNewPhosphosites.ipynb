{
 "cells": [
  {
   "cell_type": "markdown",
   "metadata": {},
   "source": [
    "# Update KinPred Final Data with expanded Human Phosphoproteome\n",
    "\n",
    "To update the KinPred Final Data (PhosphoPICK, GPS, and NetworKIN), download the latest ProteomeScout data and cross reference the (unfiltered) formated data with the new ProteomeScout data. \n",
    "\n",
    "see [CrossReferenceWithProteomeScout.ipynb](https://github.com/NaegleLab/KinPred/blob/master/Code/CrossReferenceWithProteomeScout/CrossReferenceWithProteomeScout.ipynb) for detail"
   ]
  },
  {
   "cell_type": "code",
   "execution_count": null,
   "metadata": {},
   "outputs": [],
   "source": [
    "# IMPORTS\n",
    "sys.path.append('../CrossReferenceWithProteomeScout/')\n",
    "import XRefProteomeScout\n",
    "from datetime import date"
   ]
  },
  {
   "cell_type": "code",
   "execution_count": null,
   "metadata": {},
   "outputs": [],
   "source": [
    "# version date\n",
    "pscout_version = date.today().strftime('%Y-%m-%d')\n",
    "\n",
    "# file location\n",
    "ref_proteome = base+\"Data/Raw/HumanProteome/humanProteome_\"+ref_version+\".fasta\"\n",
    "pscout_data = base+'Data/Raw/ProteomeScout_'+pscout_version+'/data.tsv'"
   ]
  },
  {
   "cell_type": "code",
   "execution_count": null,
   "metadata": {},
   "outputs": [],
   "source": [
    "# download current ProteomeScout Data\n",
    "XRefProteomeScout.getPScoutData()"
   ]
  },
  {
   "cell_type": "code",
   "execution_count": null,
   "metadata": {},
   "outputs": [],
   "source": [
    "# run cross referencing\n",
    "XRefProteomeScout.XRefProteomeScout(pscout_data, ref_proteome, new_version)"
   ]
  }
 ],
 "metadata": {
  "kernelspec": {
   "display_name": "Python 3",
   "language": "python",
   "name": "python3"
  },
  "language_info": {
   "codemirror_mode": {
    "name": "ipython",
    "version": 3
   },
   "file_extension": ".py",
   "mimetype": "text/x-python",
   "name": "python",
   "nbconvert_exporter": "python",
   "pygments_lexer": "ipython3",
   "version": "3.8.1"
  }
 },
 "nbformat": 4,
 "nbformat_minor": 2
}

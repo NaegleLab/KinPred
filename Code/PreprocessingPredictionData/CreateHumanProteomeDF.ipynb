{
 "cells": [
  {
   "cell_type": "markdown",
   "metadata": {},
   "source": [
    "# Creating Human Proteomes Data Frame\n",
    "Download the current human proteomes as fasta file from UniProt.org. Convert it to a tab delimited csv file.  The final output file will be used as the reference for substrate and kinase ID mapping. \n",
    "df contains columns:\n",
    "- **UniprotID**\n",
    "- **Gene Name**\n",
    "- **Entry Name**\n",
    "- **sequence**"
   ]
  },
  {
   "cell_type": "code",
   "execution_count": 1,
   "metadata": {},
   "outputs": [],
   "source": [
    "# IMPORTS\n",
    "\n",
    "import humanProteomesReference"
   ]
  },
  {
   "cell_type": "code",
   "execution_count": 2,
   "metadata": {},
   "outputs": [],
   "source": [
    "#DEFINE FILES\n",
    "\n",
    "##################\n",
    "# File Location  #\n",
    "##################\n",
    "# local (../../)\n",
    "base = '../../'\n",
    "\n",
    "# human proteomes fasta file downloaded from Uniprot\n",
    "HP_fasta = base + 'Data/Raw/HumanProteome/humanProteome_'\n",
    "# output: human proteomes tab delimited csv file \n",
    "HP_csv = base + 'Data/Map/humanProteome_'\n"
   ]
  },
  {
   "cell_type": "code",
   "execution_count": 3,
   "metadata": {},
   "outputs": [],
   "source": [
    "# Downloads the Human Proteomes (canonical) from Unipro.org, and saves as fasta formate at the given dir/name.\n",
    "\n",
    "humanProteomesReference.downloadHumanProteomes(HP_fasta)"
   ]
  },
  {
   "cell_type": "code",
   "execution_count": 4,
   "metadata": {},
   "outputs": [
    {
     "data": {
      "text/html": [
       "<div>\n",
       "<style scoped>\n",
       "    .dataframe tbody tr th:only-of-type {\n",
       "        vertical-align: middle;\n",
       "    }\n",
       "\n",
       "    .dataframe tbody tr th {\n",
       "        vertical-align: top;\n",
       "    }\n",
       "\n",
       "    .dataframe thead th {\n",
       "        text-align: right;\n",
       "    }\n",
       "</style>\n",
       "<table border=\"1\" class=\"dataframe\">\n",
       "  <thead>\n",
       "    <tr style=\"text-align: right;\">\n",
       "      <th></th>\n",
       "      <th>UniprotID</th>\n",
       "      <th>Gene Name</th>\n",
       "      <th>Entry Name</th>\n",
       "      <th>sequence</th>\n",
       "    </tr>\n",
       "  </thead>\n",
       "  <tbody>\n",
       "    <tr>\n",
       "      <td>0</td>\n",
       "      <td>Q6ZSK4</td>\n",
       "      <td>NTM-AS1</td>\n",
       "      <td>NTAS1_HUMAN</td>\n",
       "      <td>MKGQEGIRGEGCTDPEIKASPQMWAARFRGMRSRFSPLFSQATEMG...</td>\n",
       "    </tr>\n",
       "    <tr>\n",
       "      <td>1</td>\n",
       "      <td>Q9Y263</td>\n",
       "      <td>PLAA</td>\n",
       "      <td>PLAP_HUMAN</td>\n",
       "      <td>MTSGATRYRLSCSLRGHELDVRGLVCCAYPPGAFVSVSRDRTTRLW...</td>\n",
       "    </tr>\n",
       "    <tr>\n",
       "      <td>2</td>\n",
       "      <td>Q96RE7</td>\n",
       "      <td>NACC1</td>\n",
       "      <td>NACC1_HUMAN</td>\n",
       "      <td>MAQTLQMEIPNFGNSILECLNEQRLQGLYCDVSVVVKGHAFKAHRA...</td>\n",
       "    </tr>\n",
       "    <tr>\n",
       "      <td>3</td>\n",
       "      <td>O43312</td>\n",
       "      <td>MTSS1</td>\n",
       "      <td>MTSS1_HUMAN</td>\n",
       "      <td>MEAVIEKECSALGGLFQTIISDMKGSYPVWEDFINKAGKLQSQLRT...</td>\n",
       "    </tr>\n",
       "    <tr>\n",
       "      <td>4</td>\n",
       "      <td>Q9NP80</td>\n",
       "      <td>PNPLA8</td>\n",
       "      <td>PLPL8_HUMAN</td>\n",
       "      <td>MSINLTVDIYIYLLSNARSVCGKQRSKQLYFLFSPKHYWRISHISL...</td>\n",
       "    </tr>\n",
       "    <tr>\n",
       "      <td>...</td>\n",
       "      <td>...</td>\n",
       "      <td>...</td>\n",
       "      <td>...</td>\n",
       "      <td>...</td>\n",
       "    </tr>\n",
       "    <tr>\n",
       "      <td>20362</td>\n",
       "      <td>Q9NZH0</td>\n",
       "      <td>GPRC5B</td>\n",
       "      <td>GPC5B_HUMAN</td>\n",
       "      <td>MFVASERKMRAHQVLTFLLLFVITSVASENASTSRGCGLDLLPQYV...</td>\n",
       "    </tr>\n",
       "    <tr>\n",
       "      <td>20363</td>\n",
       "      <td>Q9NXW2</td>\n",
       "      <td>DNAJB12</td>\n",
       "      <td>DJB12_HUMAN</td>\n",
       "      <td>MESNKDEAERCISIALKAIQSNQPDRALRFLEKAQRLYPTPRVRAL...</td>\n",
       "    </tr>\n",
       "    <tr>\n",
       "      <td>20364</td>\n",
       "      <td>O95395</td>\n",
       "      <td>GCNT3</td>\n",
       "      <td>GCNT3_HUMAN</td>\n",
       "      <td>MVQWKRLCQLHYLWALGCYMLLATVALKLSFRLKCDSDHLGLESRE...</td>\n",
       "    </tr>\n",
       "    <tr>\n",
       "      <td>20365</td>\n",
       "      <td>Q9Y238</td>\n",
       "      <td>DLEC1</td>\n",
       "      <td>DLEC1_HUMAN</td>\n",
       "      <td>METRSSKTRRSLASRTNECQGTMWAPTSPPAGSSSPSQPTWKSSLY...</td>\n",
       "    </tr>\n",
       "    <tr>\n",
       "      <td>20366</td>\n",
       "      <td>Q8TDM6</td>\n",
       "      <td>DLG5</td>\n",
       "      <td>DLG5_HUMAN</td>\n",
       "      <td>MEPQRRELLAQCQQSLAQAMTEVEAVLGLLEAAGALSPGERRQLDE...</td>\n",
       "    </tr>\n",
       "  </tbody>\n",
       "</table>\n",
       "<p>20367 rows × 4 columns</p>\n",
       "</div>"
      ],
      "text/plain": [
       "      UniprotID Gene Name   Entry Name  \\\n",
       "0        Q6ZSK4   NTM-AS1  NTAS1_HUMAN   \n",
       "1        Q9Y263      PLAA   PLAP_HUMAN   \n",
       "2        Q96RE7     NACC1  NACC1_HUMAN   \n",
       "3        O43312     MTSS1  MTSS1_HUMAN   \n",
       "4        Q9NP80    PNPLA8  PLPL8_HUMAN   \n",
       "...         ...       ...          ...   \n",
       "20362    Q9NZH0    GPRC5B  GPC5B_HUMAN   \n",
       "20363    Q9NXW2   DNAJB12  DJB12_HUMAN   \n",
       "20364    O95395     GCNT3  GCNT3_HUMAN   \n",
       "20365    Q9Y238     DLEC1  DLEC1_HUMAN   \n",
       "20366    Q8TDM6      DLG5   DLG5_HUMAN   \n",
       "\n",
       "                                                sequence  \n",
       "0      MKGQEGIRGEGCTDPEIKASPQMWAARFRGMRSRFSPLFSQATEMG...  \n",
       "1      MTSGATRYRLSCSLRGHELDVRGLVCCAYPPGAFVSVSRDRTTRLW...  \n",
       "2      MAQTLQMEIPNFGNSILECLNEQRLQGLYCDVSVVVKGHAFKAHRA...  \n",
       "3      MEAVIEKECSALGGLFQTIISDMKGSYPVWEDFINKAGKLQSQLRT...  \n",
       "4      MSINLTVDIYIYLLSNARSVCGKQRSKQLYFLFSPKHYWRISHISL...  \n",
       "...                                                  ...  \n",
       "20362  MFVASERKMRAHQVLTFLLLFVITSVASENASTSRGCGLDLLPQYV...  \n",
       "20363  MESNKDEAERCISIALKAIQSNQPDRALRFLEKAQRLYPTPRVRAL...  \n",
       "20364  MVQWKRLCQLHYLWALGCYMLLATVALKLSFRLKCDSDHLGLESRE...  \n",
       "20365  METRSSKTRRSLASRTNECQGTMWAPTSPPAGSSSPSQPTWKSSLY...  \n",
       "20366  MEPQRRELLAQCQQSLAQAMTEVEAVLGLLEAAGALSPGERRQLDE...  \n",
       "\n",
       "[20367 rows x 4 columns]"
      ]
     },
     "execution_count": 4,
     "metadata": {},
     "output_type": "execute_result"
    }
   ],
   "source": [
    "# Convert the input fasta file into a dataframe \n",
    "\n",
    "humanProteomesReference.fastaToCSV(HP_fasta, HP_csv)"
   ]
  },
  {
   "cell_type": "markdown",
   "metadata": {},
   "source": [
    "## split human proteome fasta file\n",
    "The downloaded human proteome fasta file is too big for the predictors to process at once. Therefore, we split the file into smaller files with 1000 sequences in each (the last one has 367 sequences). The split fasta files are submitted to predictiors to retrieve raw predictions"
   ]
  },
  {
   "cell_type": "code",
   "execution_count": null,
   "metadata": {},
   "outputs": [],
   "source": [
    "humanProteomesReference.splitFasta(HP_fasta, HP_dir, 1000)"
   ]
  }
 ],
 "metadata": {
  "kernelspec": {
   "display_name": "Python 3",
   "language": "python",
   "name": "python3"
  },
  "language_info": {
   "codemirror_mode": {
    "name": "ipython",
    "version": 3
   },
   "file_extension": ".py",
   "mimetype": "text/x-python",
   "name": "python",
   "nbconvert_exporter": "python",
   "pygments_lexer": "ipython3",
   "version": "3.7.6"
  }
 },
 "nbformat": 4,
 "nbformat_minor": 2
}

{
 "cells": [
  {
   "cell_type": "markdown",
   "metadata": {},
   "source": [
    "# Introduction\n",
    "\n",
    "### Get ProteomeScout Phosphorylation Data\n",
    "- download the phosphorylation zip file from ProteomeScout (https://proteomescout.wustl.edu/compendia/proteomescout_phosphorylation.zip)\n",
    "- unzip the file \n",
    "\n",
    "### Cross Reference with ProteomeScout Phosphorylation Data\n",
    "-  For each of the resource file, cross reference with ProteomeScout phosphorylation data\n",
    "    - this step will require the ProteomeScout API\n",
    "    - the final formatted file only contains data with confirmed phosphorylation site\n",
    "-  Create a binary substrate/kinase map for each of the filtered resource files\n"
   ]
  },
  {
   "cell_type": "markdown",
   "metadata": {},
   "source": [
    "# Cross Referencing with ProteomeScout Phosphorylation Data\n",
    "### Initializing"
   ]
  },
  {
   "cell_type": "code",
   "execution_count": 1,
   "metadata": {},
   "outputs": [],
   "source": [
    "# IMPORTS\n",
    "import XRefProteomeScout\n",
    "from datetime import date"
   ]
  },
  {
   "cell_type": "code",
   "execution_count": 2,
   "metadata": {},
   "outputs": [],
   "source": [
    "# version date\n",
    "ref_version = '2020-02-26'\n",
    "pscout_version = date.today().strftime('%Y-%m-%d')\n",
    "\n",
    "# file location\n",
    "base = '../../'\n",
    "\n",
    "ref_proteome = base+\"Data/Raw/HumanProteome/humanProteome_\"+ref_version+\".fasta\"\n",
    "pscout_data = base+'Data/Raw/ProteomeScout_'+pscout_version+'/data.tsv'"
   ]
  },
  {
   "cell_type": "markdown",
   "metadata": {},
   "source": [
    "### Download, Unzip and Save ProteomeScout Phosphorylation Data"
   ]
  },
  {
   "cell_type": "code",
   "execution_count": 3,
   "metadata": {},
   "outputs": [],
   "source": [
    "XRefProteomeScout.getPScoutData()"
   ]
  },
  {
   "cell_type": "markdown",
   "metadata": {},
   "source": [
    "### Cross Reference with ProteomeScout Phosphorylation Data"
   ]
  },
  {
   "cell_type": "code",
   "execution_count": null,
   "metadata": {},
   "outputs": [],
   "source": [
    "XRefProteomeScout.XRefProteomeScout(pscout_data, ref_proteome, ref_version)"
   ]
  },
  {
   "cell_type": "code",
   "execution_count": null,
   "metadata": {},
   "outputs": [],
   "source": []
  }
 ],
 "metadata": {
  "file_extension": ".py",
  "kernelspec": {
   "display_name": "Python 3",
   "language": "python",
   "name": "python3"
  },
  "language_info": {
   "codemirror_mode": {
    "name": "ipython",
    "version": 3
   },
   "file_extension": ".py",
   "mimetype": "text/x-python",
   "name": "python",
   "nbconvert_exporter": "python",
   "pygments_lexer": "ipython3",
   "version": "3.8.1"
  },
  "mimetype": "text/x-python",
  "name": "python",
  "npconvert_exporter": "python",
  "pygments_lexer": "ipython3",
  "version": 3
 },
 "nbformat": 4,
 "nbformat_minor": 2
}
